{
 "cells": [
  {
   "cell_type": "code",
   "execution_count": 2,
   "id": "c149406b",
   "metadata": {},
   "outputs": [
    {
     "name": "stdout",
     "output_type": "stream",
     "text": [
      "Requirement already satisfied: opencv-python in c:\\users\\mumsie\\anaconda3\\lib\\site-packages (4.8.1.78)\n",
      "Requirement already satisfied: numpy>=1.17.3 in c:\\users\\mumsie\\anaconda3\\lib\\site-packages (from opencv-python) (1.23.5)\n"
     ]
    }
   ],
   "source": [
    "# install Open-cv\n",
    "!pip install opencv-python"
   ]
  },
  {
   "cell_type": "code",
   "execution_count": 3,
   "id": "4d43dff8",
   "metadata": {},
   "outputs": [],
   "source": [
    "# import OpenCV\n",
    "import cv2"
   ]
  },
  {
   "cell_type": "code",
   "execution_count": 5,
   "id": "7392fb9e",
   "metadata": {},
   "outputs": [],
   "source": [
    "# Leverage Haar-cascade classifiers (from opencv on Github)\n",
    "face_cascade = cv2.CascadeClassifier(cv2.data.haarcascades + 'haarcascade_frontalface_default.xml')\n",
    "eye_cascade = cv2.CascadeClassifier(cv2.data.haarcascades + 'haarcascade_eye.xml')\n",
    "smile_cascade = cv2.CascadeClassifier(cv2.data.haarcascades + 'haarcascade_smile.xml')"
   ]
  },
  {
   "cell_type": "code",
   "execution_count": 6,
   "id": "6ec57d5a",
   "metadata": {},
   "outputs": [],
   "source": [
    "# create a function that will detect the face\n",
    "\n",
    "def detect(gray, frame):\n",
    "    face = face_cascade.detectMultiScale(gray, 1.3, 5)\n",
    "    for (x, y, w, h) in face:\n",
    "        cv2.rectangle(frame, (x,y), (x+w, y+h), (255,0,0), 3)\n",
    "        roi_gray = gray[y:y+h, x:x+w]\n",
    "        roi_color = frame[y:y+h, x:x+w]\n",
    "        \n",
    "        # eyes detection\n",
    "        eyes = eye_cascade.detectMultiScale(gray, 1.1, 3)\n",
    "        for (ex, ey, ew, eh) in eyes:\n",
    "            cv2.rectangle(frame, (ex,ey), (ex+ew, ey+eh), (100,255,200), 2)\n",
    "            \n",
    "         # smile detection\n",
    "        smile = smile_cascade.detectMultiScale(gray, 1.7, 22)\n",
    "        for (sx, sy, sw, sh) in smile:\n",
    "            cv2.rectangle(frame, (sx,sy), (sx+sw, sy+sh), (0,200,100), 2)\n",
    "        \n",
    "    return frame"
   ]
  },
  {
   "cell_type": "code",
   "execution_count": null,
   "id": "1372df45",
   "metadata": {},
   "outputs": [],
   "source": [
    "capture = cv2.VideoCapture(0)\n",
    "\n",
    "while True:\n",
    "    _, frame = capture.read()\n",
    "    gray = cv2.cvtColor(frame, cv2.COLOR_BGR2GRAY)\n",
    "    canvas = detect(gray, frame)\n",
    "    cv2.imshow('Video', canvas)\n",
    "    if cv2.waitKey(1) & 0xff ==ord('q'):\n",
    "        break\n",
    "capture.release()\n",
    "cv2.destroyAllWindows()"
   ]
  },
  {
   "cell_type": "code",
   "execution_count": null,
   "id": "caebd415",
   "metadata": {},
   "outputs": [],
   "source": []
  }
 ],
 "metadata": {
  "kernelspec": {
   "display_name": "Python 3 (ipykernel)",
   "language": "python",
   "name": "python3"
  },
  "language_info": {
   "codemirror_mode": {
    "name": "ipython",
    "version": 3
   },
   "file_extension": ".py",
   "mimetype": "text/x-python",
   "name": "python",
   "nbconvert_exporter": "python",
   "pygments_lexer": "ipython3",
   "version": "3.10.9"
  }
 },
 "nbformat": 4,
 "nbformat_minor": 5
}
